{
 "cells": [
  {
   "cell_type": "code",
   "execution_count": 1,
   "metadata": {},
   "outputs": [],
   "source": [
    "import os\n",
    "import sys\n",
    "import struct\n",
    "import numpy as np\n",
    "import cv2\n",
    "import matplotlib.pyplot as plt"
   ]
  },
  {
   "cell_type": "code",
   "execution_count": 2,
   "metadata": {},
   "outputs": [],
   "source": [
    "# MNISTのファイル (あらかじめダウンロードしておく)\n",
    "train_image_file = 'mnist/train-images-idx3-ubyte'\n",
    "train_label_file = 'mnist/train-labels-idx1-ubyte'\n",
    "test_image_file = 'mnist/t10k-images-idx3-ubyte'\n",
    "test_label_file = 'mnist/t10k-labels-idx1-ubyte'"
   ]
  },
  {
   "cell_type": "code",
   "execution_count": 3,
   "metadata": {},
   "outputs": [],
   "source": [
    "def load_images(filename):\n",
    "    \"\"\" MNISTの画像データを読み込む \"\"\"\n",
    "\n",
    "    fp = open(filename, 'rb')\n",
    "    \n",
    "    # マジックナンバー\n",
    "    magic = struct.unpack('>i', fp.read(4))[0]\n",
    "    if magic != 2051:\n",
    "        raise Exception('Invalid MNIST file!')\n",
    "        \n",
    "    # 各種サイズ\n",
    "    n_images, height, width = struct.unpack('>iii', fp.read(4 * 3))\n",
    "    \n",
    "    # 画像の読み込み\n",
    "    total_pixels = n_images * height * width\n",
    "    images = struct.unpack('>' + 'B' * total_pixels, fp.read(total_pixels))\n",
    "    \n",
    "    images = np.asarray(images, dtype='uint8')\n",
    "    images = images.reshape((n_images, height, width, 1))\n",
    "    \n",
    "    # 値の範囲を[0, 1]に変更する\n",
    "    images = images.astype('float32') / 255.0\n",
    "    \n",
    "    fp.close()\n",
    "    \n",
    "    return images"
   ]
  },
  {
   "cell_type": "code",
   "execution_count": 4,
   "metadata": {},
   "outputs": [],
   "source": [
    "def load_labels(filename):\n",
    "    \"\"\" MNISTのラベルデータを読み込む \"\"\"\n",
    "\n",
    "    fp = open(filename, 'rb')\n",
    "    \n",
    "    # マジックナンバー\n",
    "    magic = struct.unpack('>i', fp.read(4))[0]\n",
    "    if magic != 2049:\n",
    "        raise Exception('Invalid MNIST file!')\n",
    "        \n",
    "    # 各種サイズ\n",
    "    n_labels = struct.unpack('>i', fp.read(4))[0]\n",
    "    \n",
    "    # ラベルの読み込み\n",
    "    labels = struct.unpack('>' + 'B' * n_labels, fp.read(n_labels))\n",
    "    labels = np.asarray(labels, dtype='int32')\n",
    "    \n",
    "    fp.close()\n",
    "    \n",
    "    return labels"
   ]
  },
  {
   "cell_type": "code",
   "execution_count": 5,
   "metadata": {},
   "outputs": [],
   "source": [
    "def to_onehot(labels):\n",
    "    \"\"\" one-hot形式への変換 \"\"\"\n",
    "    return np.identity(10)[labels]"
   ]
  },
  {
   "cell_type": "code",
   "execution_count": 6,
   "metadata": {},
   "outputs": [],
   "source": [
    "images = load_images(train_image_file)\n",
    "labels = load_labels(train_label_file)\n",
    "onehot = to_onehot(labels)"
   ]
  },
  {
   "cell_type": "code",
   "execution_count": 7,
   "metadata": {},
   "outputs": [],
   "source": [
    "num_data = len(images)\n",
    "X = images.reshape((num_data, -1))\n",
    "y = onehot.reshape((num_data, -1))"
   ]
  },
  {
   "cell_type": "code",
   "execution_count": 8,
   "metadata": {},
   "outputs": [],
   "source": [
    "def softmax(x, axis=-1):\n",
    "    \"\"\" softmax関数 \"\"\"\n",
    "    ex = np.exp(x)\n",
    "    return ex / np.sum(ex, axis=axis, keepdims=True)\n",
    "\n",
    "def log_softmax(x, axis=-1):\n",
    "    \"\"\" log-softmax関数 \"\"\"\n",
    "    ex = np.exp(x)\n",
    "    return x - np.log(np.sum(ex, axis=axis, keepdims=True))"
   ]
  },
  {
   "cell_type": "code",
   "execution_count": 9,
   "metadata": {},
   "outputs": [
    {
     "name": "stdout",
     "output_type": "stream",
     "text": [
      "epoch:0, step:59776, loss=1.228238, acc=0.757812"
     ]
    }
   ],
   "source": [
    "# ミニバッチのサイズ\n",
    "batch_size = 128\n",
    "\n",
    "# パラメータの初期化\n",
    "in_features = X.shape[-1]\n",
    "out_features = y.shape[-1]\n",
    "AA = np.random.normal(size=(out_features, in_features))\n",
    "bb = np.random.normal(size=(out_features))\n",
    "\n",
    "# エポック\n",
    "for epoch in range(1):\n",
    "    # データの順番は偏りをなくすためにランダムシャッフルする\n",
    "    indices = np.random.permutation(np.arange(num_data))\n",
    "    for b in range(0, num_data, batch_size):\n",
    "        if b + batch_size > num_data:\n",
    "            break\n",
    "        \n",
    "        xs = X[indices[b:b+batch_size], :]\n",
    "        ys = y[indices[b:b+batch_size], :]\n",
    "\n",
    "        loss = 0.0\n",
    "        acc = 0.0\n",
    "        grad_AA = np.zeros_like(AA)\n",
    "        grad_bb = np.zeros_like(bb)\n",
    "        \n",
    "        # バッチ内の各データに対してロス、精度、勾配を求める\n",
    "        for x, y_real in zip(xs, ys):\n",
    "            t = np.dot(AA, x) + bb\n",
    "            y_pred = softmax(t)\n",
    "            L = np.sum(-y_real * np.log(y_pred))\n",
    "            \n",
    "            delta = np.identity(AA.shape[0])\n",
    "            dLdy = -y_real / y_pred\n",
    "            dydt = np.einsum('ij,i->ij', delta, y_pred) - np.einsum('i,j->ij', y_pred, y_pred)\n",
    "            dtdA = np.einsum('ij,k->ijk', delta, x)\n",
    "            dtdb = np.ones((bb.shape[-1], bb.shape[-1]))\n",
    "            dLdt = np.dot(dLdy, dydt)\n",
    "            dLdA = np.dot(dLdt, dtdA)\n",
    "            dLdb = np.dot(dLdt, dtdb)\n",
    "            \n",
    "            y_pred_id = np.argmax(y_pred)\n",
    "            y_real_id = np.argmax(y_real)\n",
    "            acc += 1.0 if y_pred_id == y_real_id else 0.0\n",
    "            \n",
    "            loss += L\n",
    "            grad_AA += dLdA\n",
    "            grad_bb += dLdb\n",
    "            \n",
    "        # 平均を取る\n",
    "        loss /= batch_size\n",
    "        acc /= batch_size\n",
    "        grad_AA /= batch_size\n",
    "        grad_bb /= batch_size\n",
    "\n",
    "        # 最急降下法による値の更新\n",
    "        AA -= 0.1 * grad_AA\n",
    "        bb -= 0.1 * grad_bb\n",
    "        \n",
    "        # printの代わりにsys.stdout.writeを使うとcarrige returnが使える\n",
    "        sys.stdout.write('\\repoch:{}, step:{}, loss={:.6f}, acc={:.6f}'.format(epoch, b, loss, acc))\n",
    "        sys.stdout.flush()"
   ]
  },
  {
   "cell_type": "code",
   "execution_count": null,
   "metadata": {},
   "outputs": [],
   "source": []
  }
 ],
 "metadata": {
  "kernelspec": {
   "display_name": "Python 3",
   "language": "python",
   "name": "python3"
  },
  "language_info": {
   "codemirror_mode": {
    "name": "ipython",
    "version": 3
   },
   "file_extension": ".py",
   "mimetype": "text/x-python",
   "name": "python",
   "nbconvert_exporter": "python",
   "pygments_lexer": "ipython3",
   "version": "3.7.2"
  }
 },
 "nbformat": 4,
 "nbformat_minor": 4
}
