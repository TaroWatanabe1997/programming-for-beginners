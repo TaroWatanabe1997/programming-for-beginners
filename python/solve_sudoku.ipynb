{
 "cells": [
  {
   "cell_type": "code",
   "execution_count": 15,
   "metadata": {},
   "outputs": [],
   "source": [
    "import numpy as np"
   ]
  },
  {
   "cell_type": "code",
   "execution_count": 60,
   "metadata": {},
   "outputs": [],
   "source": [
    "problem = '''\n",
    "-35-9--48\n",
    "--9--8--3\n",
    "-4-6-5--1\n",
    "----74---\n",
    "-2-----6-\n",
    "---15----\n",
    "8--9-2-7-\n",
    "9--5--2--\n",
    "61--4-53-\n",
    "'''\n",
    "problem = [list(l) for l in problem.split('\\n') if l != '']\n",
    "problem = [0 if c == '-' else int(c) for l in problem for c in l]\n",
    "problem = np.asarray(problem, dtype='int32').reshape((9, 9))"
   ]
  },
  {
   "cell_type": "code",
   "execution_count": 64,
   "metadata": {},
   "outputs": [],
   "source": [
    "def sudoku_solve(problem):\n",
    "    rows, cols = problem.shape\n",
    "    nums = set([i for i in range(0, 10)])\n",
    "    for i in range(rows):\n",
    "        for j in range(cols):\n",
    "            if problem[i, j] == 0:\n",
    "                k = i // 3\n",
    "                l = j // 3\n",
    "                row_nums = problem[i, :].tolist()\n",
    "                col_nums = problem[:, j].tolist()\n",
    "                blk_nums = problem[3*k:3*k+3, 3*l:3*l+3].reshape(-1).tolist()\n",
    "                used = set(row_nums + col_nums + blk_nums)\n",
    "                diff = nums.difference(used)\n",
    "                if len(diff) == 0:\n",
    "                    return False\n",
    "                \n",
    "                success = False\n",
    "                for n in diff:\n",
    "                    problem[i, j] = n\n",
    "                    if dfs(problem):\n",
    "                        success = True\n",
    "                        break\n",
    "\n",
    "                    problem[i, j] = 0\n",
    "\n",
    "                if not success:\n",
    "                    return False\n",
    "        \n",
    "    return True"
   ]
  },
  {
   "cell_type": "code",
   "execution_count": 65,
   "metadata": {},
   "outputs": [
    {
     "data": {
      "text/plain": [
       "True"
      ]
     },
     "execution_count": 65,
     "metadata": {},
     "output_type": "execute_result"
    }
   ],
   "source": [
    "dfs(problem)"
   ]
  },
  {
   "cell_type": "code",
   "execution_count": 66,
   "metadata": {},
   "outputs": [
    {
     "name": "stdout",
     "output_type": "stream",
     "text": [
      "[[2 3 5 7 9 1 6 4 8]\n",
      " [1 6 9 4 2 8 7 5 3]\n",
      " [7 4 8 6 3 5 9 2 1]\n",
      " [3 9 6 2 7 4 8 1 5]\n",
      " [5 2 1 3 8 9 4 6 7]\n",
      " [4 8 7 1 5 6 3 9 2]\n",
      " [8 5 3 9 6 2 1 7 4]\n",
      " [9 7 4 5 1 3 2 8 6]\n",
      " [6 1 2 8 4 7 5 3 9]]\n"
     ]
    }
   ],
   "source": [
    "print(problem)"
   ]
  },
  {
   "cell_type": "code",
   "execution_count": null,
   "metadata": {},
   "outputs": [],
   "source": []
  }
 ],
 "metadata": {
  "kernelspec": {
   "display_name": "Python 3",
   "language": "python",
   "name": "python3"
  },
  "language_info": {
   "codemirror_mode": {
    "name": "ipython",
    "version": 3
   },
   "file_extension": ".py",
   "mimetype": "text/x-python",
   "name": "python",
   "nbconvert_exporter": "python",
   "pygments_lexer": "ipython3",
   "version": "3.7.2"
  }
 },
 "nbformat": 4,
 "nbformat_minor": 4
}
